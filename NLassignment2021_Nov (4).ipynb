{
 "cells": [
  {
   "cell_type": "markdown",
   "metadata": {
    "id": "f2S8I2ny-ovS"
   },
   "source": [
    "# NLE Assignment: Sentiment Classification\n",
    "\n"
   ]
  },
  {
   "cell_type": "code",
   "execution_count": 1,
   "metadata": {
    "executionInfo": {
     "elapsed": 776,
     "status": "ok",
     "timestamp": 1602225678050,
     "user": {
      "displayName": "Julie Weeds",
      "photoUrl": "",
      "userId": "13844540934373660130"
     },
     "user_tz": -60
    },
    "id": "1gXQAZas-l9c"
   },
   "outputs": [],
   "source": [
    "candidateno=251041 #this MUST be updated to your candidate number so that you get a unique data sample\n"
   ]
  },
  {
   "cell_type": "code",
   "execution_count": 2,
   "metadata": {
    "colab": {
     "base_uri": "https://localhost:8080/",
     "height": 102
    },
    "executionInfo": {
     "elapsed": 7200,
     "status": "ok",
     "timestamp": 1602224747300,
     "user": {
      "displayName": "Julie Weeds",
      "photoUrl": "",
      "userId": "13844540934373660130"
     },
     "user_tz": -60
    },
    "id": "nk8JTP88A8vs",
    "outputId": "65e59f95-9e7d-494f-d156-a0428f135fef"
   },
   "outputs": [
    {
     "name": "stderr",
     "output_type": "stream",
     "text": [
      "[nltk_data] Downloading package punkt to\n",
      "[nltk_data]     C:\\Users\\Pramod\\AppData\\Roaming\\nltk_data...\n",
      "[nltk_data]   Package punkt is already up-to-date!\n",
      "[nltk_data] Downloading package stopwords to\n",
      "[nltk_data]     C:\\Users\\Pramod\\AppData\\Roaming\\nltk_data...\n",
      "[nltk_data]   Package stopwords is already up-to-date!\n",
      "[nltk_data] Downloading package movie_reviews to\n",
      "[nltk_data]     C:\\Users\\Pramod\\AppData\\Roaming\\nltk_data...\n",
      "[nltk_data]   Package movie_reviews is already up-to-date!\n"
     ]
    }
   ],
   "source": [
    "#do not change the code in this cell\n",
    "#preliminary imports\n",
    "\n",
    "#set up nltk\n",
    "import nltk\n",
    "nltk.download('punkt')\n",
    "nltk.download('stopwords')\n",
    "nltk.download('movie_reviews')\n",
    "from nltk.corpus import stopwords\n",
    "from nltk.tokenize import word_tokenize\n",
    "from nltk.corpus import movie_reviews\n",
    "\n",
    "#for setting up training and testing data\n",
    "import random\n",
    "\n",
    "#useful other tools\n",
    "import re\n",
    "import pandas as pd\n",
    "import matplotlib.pyplot as plt\n",
    "%matplotlib inline\n",
    "from itertools import zip_longest\n",
    "from nltk.probability import FreqDist\n",
    "from nltk.classify.api import ClassifierI\n"
   ]
  },
  {
   "cell_type": "code",
   "execution_count": 3,
   "metadata": {
    "executionInfo": {
     "elapsed": 854,
     "status": "ok",
     "timestamp": 1602226177157,
     "user": {
      "displayName": "Julie Weeds",
      "photoUrl": "",
      "userId": "13844540934373660130"
     },
     "user_tz": -60
    },
    "id": "BHBkzAccCVaZ"
   },
   "outputs": [],
   "source": [
    "#do not change the code in this cell\n",
    "def split_data(data, ratio=0.7): # when the second argument is not given, it defaults to 0.7\n",
    "    \"\"\"\n",
    "    Given corpus generator and ratio:\n",
    "     - partitions the corpus into training data and test data, where the proportion in train is ratio,\n",
    "\n",
    "    :param data: A corpus generator.\n",
    "    :param ratio: The proportion of training documents (default 0.7)\n",
    "    :return: a pair (tuple) of lists where the first element of the \n",
    "            pair is a list of the training data and the second is a list of the test data.\n",
    "    \"\"\"\n",
    "    \n",
    "    data = list(data)  \n",
    "    n = len(data)  \n",
    "    train_indices = random.sample(range(n), int(n * ratio))          \n",
    "    test_indices = list(set(range(n)) - set(train_indices))    \n",
    "    train = [data[i] for i in train_indices]           \n",
    "    test = [data[i] for i in test_indices]             \n",
    "    return (train, test)                       \n",
    " \n",
    "\n",
    "def get_train_test_data():\n",
    "    \n",
    "    #get ids of positive and negative movie reviews\n",
    "    pos_review_ids=movie_reviews.fileids('pos')\n",
    "    neg_review_ids=movie_reviews.fileids('neg')\n",
    "   \n",
    "    #split positive and negative data into training and testing sets\n",
    "    pos_train_ids, pos_test_ids = split_data(pos_review_ids)\n",
    "    neg_train_ids, neg_test_ids = split_data(neg_review_ids)\n",
    "    #add labels to the data and concatenate\n",
    "    training = [(movie_reviews.words(f),'pos') for f in pos_train_ids]+[(movie_reviews.words(f),'neg') for f in neg_train_ids]\n",
    "    testing = [(movie_reviews.words(f),'pos') for f in pos_test_ids]+[(movie_reviews.words(f),'neg') for f in neg_test_ids]\n",
    "   \n",
    "    return training, testing"
   ]
  },
  {
   "cell_type": "markdown",
   "metadata": {
    "id": "1N3LWwBYICPP"
   },
   "source": [
    "When you have run the cell below, your unique training and testing samples will be stored in `training_data` and `testing_data`"
   ]
  },
  {
   "cell_type": "code",
   "execution_count": 4,
   "metadata": {
    "colab": {
     "base_uri": "https://localhost:8080/",
     "height": 105
    },
    "executionInfo": {
     "elapsed": 17300,
     "status": "ok",
     "timestamp": 1602226420608,
     "user": {
      "displayName": "Julie Weeds",
      "photoUrl": "",
      "userId": "13844540934373660130"
     },
     "user_tz": -60
    },
    "id": "HJLegkdPFUJA",
    "outputId": "b29ea6a9-ea00-4b68-f0cb-ce9e6fa25233"
   },
   "outputs": [
    {
     "name": "stdout",
     "output_type": "stream",
     "text": [
      "The amount of training data is 1400\n",
      "The amount of testing data is 600\n",
      "The representation of a single data item is below\n",
      "(['the', 'deer', 'hunter', ',', 'directed', 'by', ...], 'pos')\n"
     ]
    }
   ],
   "source": [
    "#do not change the code in this cell\n",
    "random.seed(candidateno)\n",
    "training_data,testing_data=get_train_test_data()\n",
    "print(\"The amount of training data is {}\".format(len(training_data)))\n",
    "print(\"The amount of testing data is {}\".format(len(testing_data)))\n",
    "print(\"The representation of a single data item is below\")\n",
    "print(training_data[0])"
   ]
  },
  {
   "cell_type": "markdown",
   "metadata": {},
   "source": [
    "1)  \n",
    "a) **Generate** a list of 10 content words which are representative of the positive reviews in your training data.\n",
    "\n",
    "b) **Generate** a list of 10 content words which are representative of the negative reviews in your training data.\n",
    "\n",
    "c) **Explain** what you have done and why\n",
    "\n",
    "[20\\%]"
   ]
  },
  {
   "cell_type": "markdown",
   "metadata": {},
   "source": [
    "First of all we have to get content words that represent positive and negative words in our training data. For that, we have to clean the training data. Afterwards, we have to also eliminate stop words, numbers and punctuations. Sincem these words does not fit to either positive or negative in the dataset.\n",
    "\n",
    "Most of the frequent stops words comes in the category of a, an, the. To remove them, we have imported stopwords from nltk.corpus. nltk is natural language tool kit, which is useful for language data. Whereas, Corpus is a module within nltk, which is used to read corpus files. "
   ]
  },
  {
   "cell_type": "code",
   "execution_count": 6,
   "metadata": {},
   "outputs": [],
   "source": [
    "from nltk.corpus import stopwords\n",
    "stop = stopwords.words('english')\n",
    "def normalise(wordlist):\n",
    "    lowered=[word.lower() for word in wordlist] \n",
    "    filtered=[word for word in lowered if word.isalpha() and word not in stop]\n",
    "    return filtered"
   ]
  },
  {
   "cell_type": "markdown",
   "metadata": {},
   "source": [
    "Then, we have introduced a function called normalise on wordlist. Where we are normalising all the word into the list. Initially, we try to  convert words of a list to lowercase in a variable called lowered. Afterwards, the python inbuilt function (.lower) convert a word string to lowercase. Also, we use an inbuilt function called (.isalpha) we run it to the code line and  return to filtered list of words."
   ]
  },
  {
   "cell_type": "code",
   "execution_count": 7,
   "metadata": {},
   "outputs": [],
   "source": [
    "training_norm=[(FreqDist(normalise(wordlist)),label) for (wordlist,label) in training_data]\n",
    "pos_freq_dist=FreqDist()\n",
    "neg_freq_dist=FreqDist()\n",
    "\n",
    "for reviewDist,label in training_norm:\n",
    "    if label=='pos':\n",
    "        pos_freq_dist+=reviewDist\n",
    "    else:\n",
    "        neg_freq_dist+=reviewDist       \n"
   ]
  },
  {
   "cell_type": "markdown",
   "metadata": {},
   "source": [
    "As we have a funtion to noramlised word, now we wiil normalise the training data. Training data, we will have a lot of words, which we might not able to need, as we are more interested for words, which has positive and negative meaning.\n",
    "\n",
    "From nltk package we importe FreqDist module, which will tell us how many times a word has occured. this will give us most frequent word as well.\n",
    "\n",
    "Now we perform the same wordlist that has defined and applied on normalised function on the testing data as well.\n",
    "\n",
    "We have already had training and testing data which are list of words and already has frequent words on them."
   ]
  },
  {
   "cell_type": "code",
   "execution_count": 8,
   "metadata": {},
   "outputs": [],
   "source": [
    "def most_frequent_words(posfreq,negfreq,topk):\n",
    "    difference=posfreq-negfreq\n",
    "    sorteddiff=difference.most_common()\n",
    "    justwords=[word for (word,freq) in sorteddiff[:topk]]\n",
    "    return justwords"
   ]
  },
  {
   "cell_type": "markdown",
   "metadata": {},
   "source": [
    "We have a function most_frequent_words, which takes arguments as posfreq, negfreq and topk. Later on, we are getting a difference from pos and neg frequency word. Also, we will get most commom word on sortediff.\n"
   ]
  },
  {
   "cell_type": "markdown",
   "metadata": {},
   "source": [
    "now we will have top ten different positive words under the function top_pos"
   ]
  },
  {
   "cell_type": "code",
   "execution_count": 9,
   "metadata": {},
   "outputs": [
    {
     "name": "stdout",
     "output_type": "stream",
     "text": [
      "['film', 'life', 'also', 'well', 'great', 'story', 'many', 'best', 'films', 'world']\n"
     ]
    }
   ],
   "source": [
    "top_pos=most_frequent_words(pos_freq_dist,neg_freq_dist,10)\n",
    "print(top_pos)"
   ]
  },
  {
   "cell_type": "markdown",
   "metadata": {},
   "source": [
    "now we will have top ten different negative words under the function top_neg"
   ]
  },
  {
   "cell_type": "code",
   "execution_count": 10,
   "metadata": {},
   "outputs": [
    {
     "name": "stdout",
     "output_type": "stream",
     "text": [
      "['bad', 'movie', 'plot', 'worst', 'nothing', 'script', 'boring', 'stupid', 'even', 'get']\n"
     ]
    }
   ],
   "source": [
    "top_neg=most_frequent_words(neg_freq_dist,pos_freq_dist,10)\n",
    "print(top_neg)"
   ]
  },
  {
   "cell_type": "markdown",
   "metadata": {},
   "source": []
  },
  {
   "cell_type": "markdown",
   "metadata": {
    "id": "TApOQE6vND20"
   },
   "source": [
    "2) \n",
    "a) **Use** the lists generated in Q1 to build a **word list classifier** which will classify reviews as being positive or negative.\n",
    "\n",
    "b) **Explain** what you have done.\n",
    "\n",
    "[12.5\\%]\n"
   ]
  },
  {
   "cell_type": "markdown",
   "metadata": {},
   "source": [
    "We create a class of Wordlist classifier , which will have function within it to initialise and classify the data."
   ]
  },
  {
   "cell_type": "markdown",
   "metadata": {},
   "source": [
    "Now Create a object of class wordlist_classifier and pass the top 10 positive and negative words to the class."
   ]
  },
  {
   "cell_type": "code",
   "execution_count": 11,
   "metadata": {
    "id": "BThDMrcmODJy"
   },
   "outputs": [
    {
     "data": {
      "text/plain": [
       "'pos'"
      ]
     },
     "execution_count": 11,
     "metadata": {},
     "output_type": "execute_result"
    }
   ],
   "source": [
    "\n",
    "from nltk.classify.api import ClassifierI\n",
    "import random\n",
    "\n",
    "class WordListClassifier(ClassifierI): \n",
    "\n",
    "    def __init__(self, pos, neg): \n",
    "        self._pos = pos \n",
    "        self._neg = neg \n",
    "\n",
    "    def classify(self, doc): \n",
    "        score = 0\n",
    "        for word,value in doc.items():\n",
    "            if word in self._pos:\n",
    "                score+=value\n",
    "            if word in self._neg:\n",
    "                score-=value     \n",
    "        return \"neg\" if score < 0 else \"pos\" \n",
    "    \n",
    "    def labels(self): \n",
    "        return (\"pos\", \"neg\")\n",
    "\n",
    "\n",
    "classifier = WordListClassifier(top_pos, top_neg)\n",
    "classifier.classify(FreqDist(\"This movie was best\".split()))\n",
    "\n",
    "\n",
    "    "
   ]
  },
  {
   "cell_type": "markdown",
   "metadata": {},
   "source": [
    "Therefore, in the above cells using the lists generated in Q1,we created a word list classifier which will classify reviews as being positive or negative."
   ]
  },
  {
   "cell_type": "markdown",
   "metadata": {},
   "source": [
    "Basically, we created a class of Wordlist classifier, which have function inside it to intizalise and classify the data. And then created a object of that class to access all the functions of the class. We passed the parameters in the object as top positive and negitive movies we created in the question number 1."
   ]
  },
  {
   "cell_type": "markdown",
   "metadata": {},
   "source": []
  },
  {
   "cell_type": "markdown",
   "metadata": {},
   "source": [
    "3)\n",
    "a) **Calculate** the accuracy, precision, recall and F1 score of your classifier.\n",
    "\n",
    "b) Is it reasonable to evaluate the classifier in terms of its accuracy?  **Explain** your answer and give a counter-example (a scenario where it would / would not be reasonable to evaluate the classifier in terms of its accuracy).\n",
    "\n",
    "[20\\%]"
   ]
  },
  {
   "cell_type": "markdown",
   "metadata": {},
   "source": [
    "To calulate accuracy, precision, recall and F1 score of our wordlist classifier. Firstly, create a evaluater of the classifer in which we will test our classifier on the unseen data that is testing data. we will initialize the accuracy as zero and then increase it when are prediction is correct."
   ]
  },
  {
   "cell_type": "code",
   "execution_count": 12,
   "metadata": {},
   "outputs": [],
   "source": [
    "def classifier_evaluate(cls, test_data):\n",
    "    acc = 0\n",
    "    docs,goldstandard=zip(*test_data) #note this neat pythonic way of turning a list of pairs into a pair of lists\n",
    "    #pass all of the docs to the classifier and get back a list of predictions\n",
    "    predictions=cls.classify_many(docs)\n",
    "    #zip the predictions with the goldstandard labels and compare\n",
    "    for prediction,goldlabel in zip(predictions,goldstandard):\n",
    "        if prediction==goldlabel:\n",
    "            acc+=1    \n",
    "    return acc / (len(test_data))"
   ]
  },
  {
   "cell_type": "code",
   "execution_count": 13,
   "metadata": {},
   "outputs": [],
   "source": [
    "random.seed(41)  #set the random seeds so these random splits are always the same\n",
    "training,testing=get_train_test_data()\n",
    "training = [(FreqDist(normalise(wordlist)),label) for (wordlist,label) in training]\n",
    "testing = [(FreqDist(normalise(wordlist)),label) for (wordlist,label) in testing]\n",
    "\n"
   ]
  },
  {
   "cell_type": "code",
   "execution_count": 14,
   "metadata": {},
   "outputs": [],
   "source": [
    "\n",
    "class ConfusionMatrix:\n",
    "    def __init__(self,predictions,goldstandard,classes=(\"pos\",\"neg\")):\n",
    "    \n",
    "        (self.c1,self.c2)=classes\n",
    "        self.TP=0\n",
    "        self.FP=0\n",
    "        self.FN=0\n",
    "        self.TN=0\n",
    "        for p,g in zip(predictions,goldstandard):\n",
    "            if g==self.c1:\n",
    "                if p==self.c1:\n",
    "                    self.TP+=1\n",
    "                else:\n",
    "                    self.FN+=1\n",
    "        \n",
    "            elif p==self.c1:\n",
    "                self.FP+=1\n",
    "            else:\n",
    "                self.TN+=1\n",
    "        \n",
    "    \n",
    "    def precision(self):\n",
    "        p=0\n",
    "        p = self.TP / (self.TP + self.FP)\n",
    "        return p\n",
    "  \n",
    "    def recall(self):\n",
    "        r=0\n",
    "        r = self.TP/ (self.TP + self.FN)\n",
    "        return r\n",
    "  \n",
    "    def f1(self):\n",
    "        f1=0\n",
    "        p = self.TP / (self.TP + self.FP)\n",
    "        r = self.TP/ (self.TP + self.FN)\n",
    "        f1 = (2*p*r) / (p+r)     \n",
    "        return f1 "
   ]
  },
  {
   "cell_type": "code",
   "execution_count": 15,
   "metadata": {},
   "outputs": [
    {
     "name": "stdout",
     "output_type": "stream",
     "text": [
      "65.66666666666666\n"
     ]
    }
   ],
   "source": [
    "movie_classifier1 = WordListClassifier(top_pos,top_neg)\n",
    "score = classifier_evaluate(movie_classifier1, testing)  \n",
    "print(score*100)"
   ]
  },
  {
   "cell_type": "markdown",
   "metadata": {},
   "source": [
    "Now, we will create a confusion matrix. A confusion matrix is a summarized table of the number of correct and incorrect predictions (or actual and predicted values) given by a classifier (wordlist_clasifier) for binary classification tasks. Basically, in the confusion matrix we will be intializing our true positive, true negative, false positive and false negative as zero and change on the comparision of predicted label and goldstand label(true value)."
   ]
  },
  {
   "cell_type": "code",
   "execution_count": 16,
   "metadata": {},
   "outputs": [
    {
     "name": "stdout",
     "output_type": "stream",
     "text": [
      "250\n",
      "156\n",
      "144\n",
      "50\n"
     ]
    }
   ],
   "source": [
    "#docs will contain the documents to classify, labels contains the corresponding gold standard labels\n",
    "docs,labels=zip(*testing)\n",
    "senti_cm=ConfusionMatrix(movie_classifier1.classify_many(docs),labels)\n",
    "print(senti_cm.TP)\n",
    "print(senti_cm.FP)\n",
    "print(senti_cm.TN)\n",
    "print(senti_cm.FN)"
   ]
  },
  {
   "cell_type": "markdown",
   "metadata": {},
   "source": [
    "When we have a model for classification, we wanted to check the accuracy of the model, whether it has have all the predications made are accurate nor not. But Classification accuracy is not enough for taking the decision. For example, if take data from brest cancen occurence,then false negative is more worse than false postive. Meanwhile, if we calucuate recurrence without having the accuracy, it will show very high value, which will give a trouble of having overfitting data. so, just getting accuracy could be trouble in that case."
   ]
  },
  {
   "cell_type": "markdown",
   "metadata": {},
   "source": []
  },
  {
   "cell_type": "markdown",
   "metadata": {
    "id": "LIS9UpmJNEAp"
   },
   "source": [
    "4) \n",
    "a)  **Construct** a Naive Bayes classifier (e.g., from NLTK).\n",
    "\n",
    "b)  **Compare** the performance of your word list classifier with the Naive Bayes classifier.  **Discuss** your results. \n",
    "\n",
    "[12.5\\%]"
   ]
  },
  {
   "cell_type": "markdown",
   "metadata": {},
   "source": [
    "Developing our own NB classifier is great for understanding how it works. But, in practice, it is usually more convenient to use a standard one imported from a library. NLTK provides a NB classifier (as do other libraries such as sklearn). It can be imported and trained as follows. Therefore, we will import NaiveBayesClassifier from the nltk classify to compare with our classifier."
   ]
  },
  {
   "cell_type": "code",
   "execution_count": 17,
   "metadata": {},
   "outputs": [
    {
     "name": "stdout",
     "output_type": "stream",
     "text": [
      "Classifier accuracy percent: 65.66666666666666\n",
      "295\n",
      "160\n",
      "140\n",
      "5\n"
     ]
    }
   ],
   "source": [
    "Naive_Classifier = nltk.NaiveBayesClassifier.train(training)\n",
    "print(\"Classifier accuracy percent:\",(nltk.classify.accuracy(classifier, testing))*100)\n",
    "# Naive_Classifier.show_most_informative_features()\n",
    "senti_cm2=ConfusionMatrix(Naive_Classifier.classify_many(docs),labels)\n",
    "print(senti_cm2.TP)\n",
    "print(senti_cm2.FP)\n",
    "print(senti_cm2.TN)\n",
    "print(senti_cm2.FN)"
   ]
  },
  {
   "cell_type": "markdown",
   "metadata": {},
   "source": [
    "We can see that we are getting false positive more and therefore from the values of the true positive, true negative, false positive, false negative, we can conclude naive classifier is baised for this set of data. And also comparing our classifier with NLTK classifier there is not much differenece."
   ]
  },
  {
   "cell_type": "markdown",
   "metadata": {},
   "source": [
    "If I have to pick between Naive Bayes classifier or our wordlist classifier, I will go with Naive Bayes classifier as the parameters of Naive Bayes classifier is more promising. But, Naive Bayes classifier will not be good if we want to tune our parameters as if we Want our classifier to be more inclinded towards Recall or precision Naive Bayes classifier will not be able to do. As i got to know in my lectures that google search bar is more inclined towards recall than precision. And there can be past of the data to which can lead to biasness as data can not speak for the past. Nevertheless, at the end the day it depends on the dataset we are working on at some point Naive Bayes classifier will be give good results and at some we have to check for the past and all the factors that can result in the overfiting of the data."
   ]
  },
  {
   "cell_type": "markdown",
   "metadata": {},
   "source": []
  },
  {
   "cell_type": "markdown",
   "metadata": {
    "id": "LGDXaVDqOSfY"
   },
   "source": [
    "5) \n",
    "a) Design and **carry out an experiment** into the impact of the **length of the wordlists** on the wordlist classifier.  Make sure you **describe** design decisions in your experiment, include a **graph** of your results and **discuss** your conclusions. \n",
    "\n",
    "b) Would you **recommend** a wordlist classifier or a Naive Bayes classifier for future work in this area?  **Justify** your answer.\n",
    "\n",
    "[25\\%]\n"
   ]
  },
  {
   "cell_type": "markdown",
   "metadata": {},
   "source": []
  },
  {
   "cell_type": "code",
   "execution_count": 18,
   "metadata": {},
   "outputs": [
    {
     "data": {
      "text/html": [
       "<div>\n",
       "<style scoped>\n",
       "    .dataframe tbody tr th:only-of-type {\n",
       "        vertical-align: middle;\n",
       "    }\n",
       "\n",
       "    .dataframe tbody tr th {\n",
       "        vertical-align: top;\n",
       "    }\n",
       "\n",
       "    .dataframe thead th {\n",
       "        text-align: right;\n",
       "    }\n",
       "</style>\n",
       "<table border=\"1\" class=\"dataframe\">\n",
       "  <thead>\n",
       "    <tr style=\"text-align: right;\">\n",
       "      <th></th>\n",
       "      <th>1</th>\n",
       "      <th>10</th>\n",
       "      <th>50</th>\n",
       "      <th>100</th>\n",
       "      <th>200</th>\n",
       "      <th>400</th>\n",
       "    </tr>\n",
       "  </thead>\n",
       "  <tbody>\n",
       "    <tr>\n",
       "      <th>accuracy</th>\n",
       "      <td>0.661667</td>\n",
       "      <td>0.661667</td>\n",
       "      <td>0.661667</td>\n",
       "      <td>0.661667</td>\n",
       "      <td>0.661667</td>\n",
       "      <td>0.661667</td>\n",
       "    </tr>\n",
       "    <tr>\n",
       "      <th>precision</th>\n",
       "      <td>0.518919</td>\n",
       "      <td>0.615764</td>\n",
       "      <td>0.556391</td>\n",
       "      <td>0.573386</td>\n",
       "      <td>0.609856</td>\n",
       "      <td>0.597194</td>\n",
       "    </tr>\n",
       "    <tr>\n",
       "      <th>recall</th>\n",
       "      <td>0.960000</td>\n",
       "      <td>0.833333</td>\n",
       "      <td>0.986667</td>\n",
       "      <td>0.976667</td>\n",
       "      <td>0.990000</td>\n",
       "      <td>0.993333</td>\n",
       "    </tr>\n",
       "    <tr>\n",
       "      <th>f1 score</th>\n",
       "      <td>0.673684</td>\n",
       "      <td>0.708215</td>\n",
       "      <td>0.711538</td>\n",
       "      <td>0.722565</td>\n",
       "      <td>0.754765</td>\n",
       "      <td>0.745932</td>\n",
       "    </tr>\n",
       "  </tbody>\n",
       "</table>\n",
       "</div>"
      ],
      "text/plain": [
       "                1         10        50        100       200       400\n",
       "accuracy   0.661667  0.661667  0.661667  0.661667  0.661667  0.661667\n",
       "precision  0.518919  0.615764  0.556391  0.573386  0.609856  0.597194\n",
       "recall     0.960000  0.833333  0.986667  0.976667  0.990000  0.993333\n",
       "f1 score   0.673684  0.708215  0.711538  0.722565  0.754765  0.745932"
      ]
     },
     "execution_count": 18,
     "metadata": {},
     "output_type": "execute_result"
    }
   ],
   "source": [
    "word_list_size = 50\n",
    "samples=[1,10,50,100,200,400]\n",
    "results={}\n",
    "acc_res={}\n",
    "pre_res={}\n",
    "recal_res={}\n",
    "f1_res={}\n",
    "number_of_runs = 3\n",
    "for i in samples:\n",
    "    top_pos=most_frequent_words(pos_freq_dist,neg_freq_dist,i)\n",
    "    top_neg=most_frequent_words(neg_freq_dist,pos_freq_dist,i)\n",
    "    classifier = WordListClassifier(top_pos,top_neg)\n",
    "    #confusion matrix\n",
    "    docs,labels=zip(*testing)\n",
    "    senti=ConfusionMatrix(classifier.classify_many(docs),labels)\n",
    "    pre_res[i] = pre_res.get(i,0)+senti.precision() \n",
    "    recal_res[i] = recal_res.get(i,0)+senti.recall()\n",
    "    f1_res[i] = f1_res.get(i,0)+senti.f1()\n",
    "    acc_res = classifier_evaluate(classifier, testing)\n",
    "    results[\"accuracy\"] = acc_res\n",
    "    results[\"precision\"] = pre_res\n",
    "    results[\"recall\"] = recal_res\n",
    "    results[\"f1 score\"] = f1_res\n",
    "    #print(results)\n",
    "df=pd.DataFrame(results)\n",
    "df=df.transpose()\n",
    "df\n",
    "    \n",
    "\n",
    "    \n",
    "\n"
   ]
  },
  {
   "cell_type": "code",
   "execution_count": 19,
   "metadata": {},
   "outputs": [
    {
     "data": {
      "text/plain": [
       "Text(0.5, 0, 'Sample Size')"
      ]
     },
     "execution_count": 19,
     "metadata": {},
     "output_type": "execute_result"
    },
    {
     "data": {
      "image/png": "[encoded data removed]",
      "text/plain": [
       "<Figure size 432x288 with 1 Axes>"
      ]
     },
     "metadata": {
      "needs_background": "light"
     },
     "output_type": "display_data"
    }
   ],
   "source": [
    "ax = df.plot(kind=\"line\",title=\"Experimental Results\")\n",
    "ax.set_ylabel(\"Accuracy\")\n",
    "ax.set_xlabel(\"Sample Size\")"
   ]
  },
  {
   "cell_type": "markdown",
   "metadata": {},
   "source": [
    "The graph we got shows that the accuracy of our classifier is increasing with the increase of our word count and then starts decreasing after creating a maximum. So, we can infer that our classifier will have maximum accuracy near 500 wor"
   ]
  },
  {
   "cell_type": "markdown",
   "metadata": {},
   "source": []
  },
  {
   "cell_type": "code",
   "execution_count": 26,
   "metadata": {
    "colab": {
     "base_uri": "https://localhost:8080/",
     "height": 34
    },
    "executionInfo": {
     "elapsed": 946,
     "status": "ok",
     "timestamp": 1602228353024,
     "user": {
      "displayName": "Julie Weeds",
      "photoUrl": "",
      "userId": "13844540934373660130"
     },
     "user_tz": -60
    },
    "id": "34rdlS_iPov6",
    "outputId": "06237f84-098e-4c36-efc5-52ab25d68da5"
   },
   "outputs": [
    {
     "name": "stdout",
     "output_type": "stream",
     "text": [
      "Submission length is 243\n"
     ]
    }
   ],
   "source": [
    "##This code will word count all of the markdown cells in the notebook saved at filepath\n",
    "##Running it before providing any answers shows that the questions have a word count of 437\n",
    "\n",
    "import io\n",
    "from nbformat import current\n",
    "\n",
    "#filepath=\"/content/drive/My Drive/NLE Notebooks/assessment/assignment1.ipynb\"\n",
    "filepath=\"NLassignment2021_Nov.ipynb\"\n",
    "question_count=437\n",
    "\n",
    "with io.open(filepath, 'r', encoding='utf-8') as f:\n",
    "    nb = current.read(f, 'json')\n",
    "\n",
    "word_count = 0\n",
    "for cell in nb.worksheets[0].cells:\n",
    "    if cell.cell_type == \"markdown\":\n",
    "        word_count += len(cell['source'].replace('#', '').lstrip().split(' '))\n",
    "print(\"Submission length is {}\".format(word_count-question_count))"
   ]
  },
  {
   "cell_type": "code",
   "execution_count": null,
   "metadata": {
    "id": "PtqCcG6wPsmf"
   },
   "outputs": [],
   "source": []
  }
 ],
 "metadata": {
  "colab": {
   "authorship_tag": "ABX9TyNR6MWwZjzeJdfC3cJvdSQV",
   "name": "assignment1_SOLUTIONS.ipynb",
   "provenance": []
  },
  "kernelspec": {
   "display_name": "Python 3",
   "language": "python",
   "name": "python3"
  },
  "language_info": {
   "codemirror_mode": {
    "name": "ipython",
    "version": 3
   },
   "file_extension": ".py",
   "mimetype": "text/x-python",
   "name": "python",
   "nbconvert_exporter": "python",
   "pygments_lexer": "ipython3",
   "version": "3.7.6"
  }
 },
 "nbformat": 4,
 "nbformat_minor": 1
}
